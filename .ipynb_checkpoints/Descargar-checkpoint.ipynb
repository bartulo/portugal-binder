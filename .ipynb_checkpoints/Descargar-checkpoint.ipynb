{
 "cells": [
  {
   "cell_type": "code",
   "execution_count": null,
   "id": "befdc641-8004-4c05-83d3-baf6d79c4026",
   "metadata": {},
   "outputs": [],
   "source": [
    "from cartopy import crs as ccrs\n",
    "import matplotlib.pyplot as plt\n",
    "import owslib\n",
    "import geopandas as gpd\n",
    "\n",
    "proj = ccrs.epsg('3763')\n",
    "\n",
    "incendio = gpd.read_file('../PT-FireSprd_v0.08/L1_FireProgressions/2020/Sernancelhe_06082020/')\n",
    "incendio = incendio.to_crs(3763)\n",
    "\n",
    "minx, miny, maxx, maxy = incendio.total_bounds\n",
    "\n",
    "fig = plt.figure(figsize=(48,36))\n",
    "ax = plt.axes(projection=proj)\n",
    "buffer = 3000\n",
    "ax.set_extent([minx, maxx, miny, maxy], crs=proj)\n",
    "\n",
    "ax.add_wms(wms='https://cartografia.dgterritorio.gov.pt/wms/ortos2018', layers=['Ortos2018-RGB'])\n",
    "fig.savefig('orto.png', bbox_inches='tight', pad_inches=0)\n",
    "# plt.show()\n",
    "# plt.close(fig)"
   ]
  },
  {
   "cell_type": "code",
   "execution_count": 8,
   "id": "7f8bc687-3d31-489b-8dd4-e4e3efa7256d",
   "metadata": {},
   "outputs": [
    {
     "name": "stdout",
     "output_type": "stream",
     "text": [
      "44960.71333145051 139423.1850178923 52197.82449650567 133736.5940423988\n"
     ]
    },
    {
     "data": {
      "text/plain": [
       "<osgeo.gdal.Dataset; proxy of <Swig Object of type 'GDALDatasetShadow *' at 0x7efe15cd3ea0> >"
      ]
     },
     "execution_count": 8,
     "metadata": {},
     "output_type": "execute_result"
    }
   ],
   "source": [
    "from osgeo import gdal\n",
    "import geopandas as gpd\n",
    "\n",
    "incendio = gpd.read_file('./ASSETS/Progression_Sernancelhe_060820.shp')\n",
    "incendio = incendio.to_crs(3763)\n",
    "minx, miny, maxx, maxy = incendio.total_bounds\n",
    "print(minx, maxy, maxx, miny)\n",
    "mdt = gdal.Open('./ASSETS/dem_srtm_pt_25m.tif')\n",
    "gdal.Translate('mdt.tif', mdt, projWin = (minx, maxy, maxx, miny))"
   ]
  }
 ],
 "metadata": {
  "kernelspec": {
   "display_name": "Python 3",
   "language": "python",
   "name": "python3"
  },
  "language_info": {
   "codemirror_mode": {
    "name": "ipython",
    "version": 3
   },
   "file_extension": ".py",
   "mimetype": "text/x-python",
   "name": "python",
   "nbconvert_exporter": "python",
   "pygments_lexer": "ipython3",
   "version": "3.10.2"
  }
 },
 "nbformat": 4,
 "nbformat_minor": 5
}
